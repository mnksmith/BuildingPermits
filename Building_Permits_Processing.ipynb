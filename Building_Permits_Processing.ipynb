{
 "cells": [
  {
   "cell_type": "markdown",
   "metadata": {},
   "source": [
    "# Unstructured Text Analysis: Building Permits\n",
    "\n",
    "### Problem Description\n",
    "\n",
    "\"Take a look at (the Analyze Boston data hub's) building permits dataset. You will see a free text column labeled 'Comments'. We are often tasked with looking at unstructured text and seeing if we can provide any useful insight on the data. Please provide the top ten comment 'themes'. A theme can be anything such as the type of work being done, a general logical bucket to group common terms, the longest recurring patterns in the text, etc.\"\n",
    "\n",
    "### First Approaches\n",
    "\n",
    "The building permits dataset contains about 380,000 entries.  We're interested in breaking down the text found in the \"Comments\" section to see what patterns might arise.  The challenge of natural language processing is to filter the data just the right amount: If you filter too little, patterns are lost in the noise of words.  If you filter too much, you can miss patterns that are truly there.\n",
    "\n",
    "***\n",
    "\n",
    "### Code Preparation\n",
    "\n",
    "Import libraries and dataset.  I used the NLTK library (`pip install nltk`) for some of the data pre-processing.  I used random sampling on a smaller number of comments for troubleshooting."
   ]
  },
  {
   "cell_type": "code",
   "execution_count": 120,
   "metadata": {},
   "outputs": [
    {
     "name": "stdout",
     "output_type": "stream",
     "text": [
      "[nltk_data] Downloading package stopwords to\n",
      "[nltk_data]     /Users/mnksmith/nltk_data...\n",
      "[nltk_data]   Package stopwords is already up-to-date!\n",
      "[nltk_data] Downloading package wordnet to\n",
      "[nltk_data]     /Users/mnksmith/nltk_data...\n",
      "[nltk_data]   Package wordnet is already up-to-date!\n",
      "[nltk_data] Downloading package punkt to /Users/mnksmith/nltk_data...\n",
      "[nltk_data]   Package punkt is already up-to-date!\n"
     ]
    }
   ],
   "source": [
    "import pandas as pd\n",
    "import matplotlib.pyplot as plt\n",
    "from random import sample\n",
    "import nltk\n",
    "from nltk.corpus import stopwords\n",
    "nltk.download('stopwords')\n",
    "nltk.download('wordnet')\n",
    "nltk.download('punkt')\n",
    "\n",
    "#random sampling\n",
    "n = 49 #number of records in file\n",
    "s = 20 #desired sample size\n",
    "skip = sorted(sample(range(1,n+1),n-s))\n",
    "\n",
    "#input path to the csv file here:\n",
    "bp_df = pd.read_csv(\"/data/approvedbuildingpermits_sample.csv\", encoding = \"ISO-8859-1\")#, skiprows=skip)"
   ]
  },
  {
   "cell_type": "markdown",
   "metadata": {},
   "source": [
    "First, a look at the shape of the 'Comments' section of the dataset.  These word count statistics will help give an impression of what the content of a typical comment might look like, and how much variation there is between comments."
   ]
  },
  {
   "cell_type": "code",
   "execution_count": 121,
   "metadata": {},
   "outputs": [
    {
     "name": "stdout",
     "output_type": "stream",
     "text": [
      "Word count range: (1, 661)\n",
      "Mean: 14.2\n",
      "Std Dev: 14.1\n"
     ]
    },
    {
     "data": {
      "image/png": "[encoded data removed]",
      "text/plain": [
       "<matplotlib.figure.Figure at 0x1a27297048>"
      ]
     },
     "metadata": {},
     "output_type": "display_data"
    }
   ],
   "source": [
    "bp_df['word_count'] = bp_df['Comments'].apply(lambda x: len(str(x).split(\" \")))\n",
    "longest_comments = bp_df[['Comments','word_count']].sort_values(by='word_count', ascending=False).head(10)\n",
    "mean_word_count = bp_df['word_count'].mean()\n",
    "std_word_count = bp_df['word_count'].std()\n",
    "print('Word count range: (%i, %i)' % (bp_df['word_count'].min(), bp_df['word_count'].max()))\n",
    "print('Mean: %.1f' % (mean_word_count))\n",
    "print('Std Dev: %.1f' % (std_word_count))\n",
    "plt.figure()\n",
    "plt.hist(bp_df['word_count'], bins=20, range=(0,700), log=True)\n",
    "plt.xlabel('word count')\n",
    "plt.show()"
   ]
  },
  {
   "cell_type": "markdown",
   "metadata": {},
   "source": [
    "Most comments are short--50% are 14 words or shorter and more than 80% are 28 words or shorter.  A handful of comments, however, are very long, creating a tail.\n",
    "\n",
    "Now let's do some pre-processing on the comments to clean the data and make the features clearer and the themes pop out."
   ]
  },
  {
   "cell_type": "markdown",
   "metadata": {},
   "source": [
    "1. Make everything lower case.\n",
    "2. Remove punctuation.\n",
    "3. Remove stop words.  Stop words are words that should be filtered out for the analysis because they occur very frequently in the English language ('and', 'the', etc).  I will use the NLTK library."
   ]
  },
  {
   "cell_type": "code",
   "execution_count": 122,
   "metadata": {},
   "outputs": [
    {
     "name": "stdout",
     "output_type": "stream",
     "text": [
      "0    change connector link layout attached enclosed walkway partially enclose walkway canopy\n",
      "1    landscaping stonework amending permit 2801 2006 per b r                                \n",
      "2    interior exterior work indicated drawings amending permit 2465 2009                    \n",
      "3    landmark letter permit submittal existing issued application alt20670                  \n",
      "4    amendment add bathroom bedroom 3rd floor                                               \n",
      "Name: Comments, dtype: object\n"
     ]
    }
   ],
   "source": [
    "bp_test = bp_df.copy()\n",
    "#lowercase\n",
    "bp_test['Comments'] = bp_test['Comments'].apply(lambda x: \" \".join(x.lower() for x in re.split('\\W+|/', str(x))))\n",
    "#no punctuation\n",
    "bp_test['Comments'] = bp_test['Comments'].str.replace('[^\\w\\s]','')\n",
    "#no stop words\n",
    "stop = stopwords.words('english')\n",
    "bp_test['Comments'] = bp_test['Comments'].apply(lambda x: \" \".join(x for x in x.split() if x not in stop))\n",
    "\n",
    "print(bp_test['Comments'].head(5))\n"
   ]
  },
  {
   "cell_type": "markdown",
   "metadata": {},
   "source": [
    "We want to be sure to group words together if they are the same word but different parts of speech (e.g. 'change', 'changes').  Lemmatization will convert each word into its root.  I use the TextBlob library (`pip install textblob`), which uses morphology to find the proper stems."
   ]
  },
  {
   "cell_type": "code",
   "execution_count": 123,
   "metadata": {},
   "outputs": [
    {
     "name": "stdout",
     "output_type": "stream",
     "text": [
      "0    change connector link layout attached enclosed walkway partially enclose walkway canopy\n",
      "1    landscaping stonework amending permit 2801 2006 per b r                                \n",
      "2    interior exterior work indicated drawing amending permit 2465 2009                     \n",
      "3    landmark letter permit submittal existing issued application alt20670                  \n",
      "4    amendment add bathroom bedroom 3rd floor                                               \n",
      "Name: Comments, dtype: object\n"
     ]
    }
   ],
   "source": [
    "from textblob import Word\n",
    "bp_test['Comments'] = bp_test['Comments'].apply(lambda x: \" \".join([Word(word).lemmatize() for word in x.split()]))\n",
    "print(bp_test['Comments'].head(5))"
   ]
  },
  {
   "cell_type": "markdown",
   "metadata": {},
   "source": [
    "***\n",
    "\n",
    "### Results and Data Analysis\n",
    "\n",
    "Finally we're ready to have a look at the most common words across all comments."
   ]
  },
  {
   "cell_type": "code",
   "execution_count": 278,
   "metadata": {},
   "outputs": [
    {
     "name": "stdout",
     "output_type": "stream",
     "text": [
      "new             121536\n",
      "install         101056\n",
      "floor           66006 \n",
      "existing        64818 \n",
      "replace         57700 \n",
      "2               47850 \n",
      "kitchen         42845 \n",
      "1               39705 \n",
      "3               35752 \n",
      "system          34547 \n",
      "unit            33242 \n",
      "work            32523 \n",
      "bathroom        31733 \n",
      "water           31164 \n",
      "gas             30628 \n",
      "wall            27872 \n",
      "roof            27199 \n",
      "renovation      25301 \n",
      "remove          24900 \n",
      "office          23849 \n",
      "4               23563 \n",
      "fire            23141 \n",
      "electrical      22136 \n",
      "issued          21068 \n",
      "panel           20215 \n",
      "alarm           20156 \n",
      "building        19928 \n",
      "installation    19719 \n",
      "heater          19102 \n",
      "repair          18920 \n",
      "area            18844 \n",
      "window          18466 \n",
      "room            17843 \n",
      "light           17691 \n",
      "wiring          17585 \n",
      "fixture         17556 \n",
      "5               17346 \n",
      "space           16963 \n",
      "replacement     16857 \n",
      "6               16525 \n",
      "door            16414 \n",
      "plumbing        16290 \n",
      "interior        15983 \n",
      "family          15715 \n",
      "add             15585 \n",
      "two             15183 \n",
      "service         14932 \n",
      "boiler          14834 \n",
      "lighting        14739 \n",
      "one             14441 \n",
      "dtype: int64\n"
     ]
    }
   ],
   "source": [
    "freq = pd.Series(' '.join(bp_test['Comments']).split())\n",
    "word_freq = freq.value_counts()[freq.value_counts()>10]\n",
    "print(word_freq.sort_values(ascending=False).head(50))"
   ]
  },
  {
   "cell_type": "markdown",
   "metadata": {},
   "source": [
    "Just the word count can give some sense of what themes can be found in the comments.  \"New\", \"install\", \"installation\", \"add\" imply a fresh project, while \"replace\", \"renovation\", \"remove\", \"repair\", \"replacement\", \"change\" imply adjustments to an existing installation.  The common words also cluster around topics: \n",
    "\n",
    "1. Water systems (\"water\", \"bathroom\", \"plumbing\", \"boiler\", \"bath\", \"sink\")\n",
    "2. Electrical systems (\"electrical\", \"panel\", \"light\", \"wiring\", \"fixture\", \"lighting\", \"wire\")\n",
    "3. Building planning (\"wall\", \"roof\", \"window\", \"room\", \"space\", \"door\", \"interior\", \"basement\", \"ceiling\").\n",
    "\n",
    "Many of these words are missing context, however, so let's look at short phrases as well by counting Ngrams.  Unfortunately I found the act of creating and summing grouped words from every comment in the entire data set extremely computationally expensive, so in the interest of time I will sample the data to find patterns in word pairs and phrases.  The entire dataset has around 380,000 entries, and I produce random samples of 10,000 comments.\n",
    "\n",
    "This function vectorizes the text in each comment, builds a dictionary of the total vocabulary, and counts the number of times word groups of size n appear."
   ]
  },
  {
   "cell_type": "code",
   "execution_count": 259,
   "metadata": {
    "collapsed": true
   },
   "outputs": [],
   "source": [
    "from sklearn.feature_extraction.text import CountVectorizer\n",
    "\n",
    "pd.set_option('display.max_colwidth', -1)\n",
    "\n",
    "bp_slim = bp_test.sample(n=10000)\n",
    "\n",
    "def ngram_counter(bp_slim, n):\n",
    "    c_vec = CountVectorizer(ngram_range=(n, n)) #vectorize the comments, choose ngrams\n",
    "    ngrams = c_vec.fit_transform(bp_slim['Comments'].values.astype(str))\n",
    "    vocab = c_vec.vocabulary_ #build dictionary\n",
    "    count_values = ngrams.toarray().sum(axis=0) #count common ngrams\n",
    "    \n",
    "    ngram_df = pd.DataFrame(columns=['freq','phrase']).set_index('phrase')\n",
    "    for ng_count, ng_text in sorted([(count_values[i],k) for k,i in vocab.items()], reverse=True):\n",
    "        chunk_df = pd.DataFrame([ng_count], index=[ng_text], columns=['freq'])\n",
    "        ngram_df = ngram_df.add(chunk_df,fill_value=0) #save most common phrases in a dataframe\n",
    " #   print(ngram_df.sort_values(by='freq', ascending=False).head(10))\n",
    "    return ngram_df"
   ]
  },
  {
   "cell_type": "markdown",
   "metadata": {},
   "source": [
    "Running the code and storing the resultant common ngrams in dataframes:\n",
    "\n",
    "**Note**: this code takes some time to run."
   ]
  },
  {
   "cell_type": "code",
   "execution_count": 260,
   "metadata": {
    "collapsed": true
   },
   "outputs": [],
   "source": [
    "bigram_df = ngram_counter(bp_slim, 2)\n",
    "trigram_df = ngram_counter(bp_slim, 3)\n",
    "quadgram_df = ngram_counter(bp_slim, 4)\n",
    "pentagram_df = ngram_counter(bp_slim, 5)\n",
    "hexagram_df = ngram_counter(bp_slim, 6)\n",
    "heptagram_df = ngram_counter(bp_slim, 7)\n",
    "octagram_df = ngram_counter(bp_slim, 8)\n",
    "nonagram_df = ngram_counter(bp_slim, 9)"
   ]
  },
  {
   "cell_type": "markdown",
   "metadata": {},
   "source": [
    "Now we examine each ngram in turn for patterns.  Adjust the value in \"head\" to look at more values. Note that the data was re-sampled for each list of ngrams so there may not be internal consistency.  The purpose is to find qualitative trends in common elements."
   ]
  },
  {
   "cell_type": "code",
   "execution_count": 269,
   "metadata": {},
   "outputs": [
    {
     "name": "stdout",
     "output_type": "stream",
     "text": [
      "                freq\n",
      "install new      780\n",
      "water heater     457\n",
      "fire alarm       401\n",
      "low voltage      267\n",
      "security system  233\n"
     ]
    }
   ],
   "source": [
    "print(bigram_df.sort_values(by='freq', ascending=False).head(5))"
   ]
  },
  {
   "cell_type": "code",
   "execution_count": 270,
   "metadata": {},
   "outputs": [
    {
     "name": "stdout",
     "output_type": "stream",
     "text": [
      "                        freq\n",
      "fire alarm system        141\n",
      "police detail area       112\n",
      "detail area 343          111\n",
      "boston police detail     99 \n",
      "install security system  95 \n"
     ]
    }
   ],
   "source": [
    "print(trigram_df.sort_values(by='freq', ascending=False).head(5))"
   ]
  },
  {
   "cell_type": "code",
   "execution_count": 271,
   "metadata": {},
   "outputs": [
    {
     "name": "stdout",
     "output_type": "stream",
     "text": [
      "                                  freq\n",
      "police detail area 343             106\n",
      "boston police detail area          97 \n",
      "lighting energy efficient fixture  44 \n",
      "replace lighting energy efficient  44 \n",
      "boston police area 343             40 \n"
     ]
    }
   ],
   "source": [
    "print(quadgram_df.sort_values(by='freq', ascending=False).head(5))"
   ]
  },
  {
   "cell_type": "code",
   "execution_count": 272,
   "metadata": {},
   "outputs": [
    {
     "name": "stdout",
     "output_type": "stream",
     "text": [
      "                                          freq\n",
      "boston police detail area 343              123\n",
      "replace lighting energy efficient fixture  58 \n",
      "4pm boston police detail area              35 \n",
      "7am 4pm boston police detail               35 \n",
      "solar electric panel roof existing         34 \n"
     ]
    }
   ],
   "source": [
    "print(pentagram_df.sort_values(by='freq', ascending=False).head(5))"
   ]
  },
  {
   "cell_type": "code",
   "execution_count": 273,
   "metadata": {},
   "outputs": [
    {
     "name": "stdout",
     "output_type": "stream",
     "text": [
      "                                           freq\n",
      "misc low voltage hvac control wiring        32 \n",
      "install solar electric panel roof existing  31 \n",
      "boston police detail area 343 4239          28 \n",
      "boston police detail area 343 4556          27 \n",
      "4pm boston police detail area 343           24 \n"
     ]
    }
   ],
   "source": [
    "print(hexagram_df.sort_values(by='freq', ascending=False).head(5))"
   ]
  },
  {
   "cell_type": "code",
   "execution_count": 274,
   "metadata": {},
   "outputs": [
    {
     "name": "stdout",
     "output_type": "stream",
     "text": [
      "                                                         freq\n",
      "7am 4pm boston police detail area 343                     24 \n",
      "solar electric panel roof existing home interconnected    22 \n",
      "electric panel roof existing home interconnected home     22 \n",
      "roof existing home interconnected home electrical system  22 \n",
      "panel roof existing home interconnected home electrical   22 \n"
     ]
    }
   ],
   "source": [
    "print(heptagram_df.sort_values(by='freq', ascending=False).head(5))"
   ]
  },
  {
   "cell_type": "markdown",
   "metadata": {},
   "source": [
    "Here's a quick look at which words are most common in the single-word comments (after cleaning):"
   ]
  },
  {
   "cell_type": "code",
   "execution_count": 277,
   "metadata": {},
   "outputs": [
    {
     "name": "stdout",
     "output_type": "stream",
     "text": [
      "renovation    355\n",
      "retest        291\n",
      "boiler        213\n",
      "plumbing      182\n",
      "remodel       113\n",
      "dtype: int64\n"
     ]
    }
   ],
   "source": [
    "freq1 = pd.Series(' '.join(bp_test.loc[bp_test.word_count==1]['Comments']).split())\n",
    "word_freq1 = freq1.value_counts()[freq1.value_counts()>10]\n",
    "print(word_freq1.sort_values(ascending=False).head(5))"
   ]
  },
  {
   "cell_type": "markdown",
   "metadata": {},
   "source": [
    "After looking through the most-common words and groups of words, I've compiled ten themes.  I'll explore each in turn:\n",
    "\n",
    "\n",
    "#### 1. Location on property\n",
    "\n",
    "Many comments are used to specify where on the property/where in the building the activity is taking place.  \"Interior\" and \"exterior\" are common words and \"1st floor\", \"2nd floor\", \"3rd floor\", etc are common bigrams.  Work specific to a room is also frequently commented: \"kitchen\", \"bathroom\", \"basement\", etc.\n",
    "\n",
    "#### 2. Energy-efficient upgrades\n",
    "\n",
    "Improving energy efficiency appears in two categories: lighting fixtures and solar panels.  Longer ngrams frequently contain this information, so we see repeated instances of \"install solar electric panel roof existing home\", \"roof mounted photovoltaic\", or \"lighting energy efficient fixture\".\n",
    "\n",
    "#### 3. HVAC (Heating, Ventilation, and Air Conditioning)\n",
    "\n",
    "HVAC itself is a commonly-appearing term, but this theme is especially apparent in the frequency of electrical ngrams like \"home electrical system\", \"low voltage hvac control\", or \"low voltage wiring\" and heating system ngrams like \"replace water heater\", and \"hot water heater\".\n",
    "\n",
    "#### 4. Exterior structural changes\n",
    "\n",
    "Alterations made to building exteriors are evident in the item being addressed (\"window\", \"wall\", \"door\") and in longer phrases indicating renovation (\"install replacement window structural\").  This theme overlaps with the energy-efficient upgrades as many of the comments reference solar panel installation which falls into both categories.\n",
    "\n",
    "#### 5. Interior remodeling\n",
    "\n",
    "Interior remodeling is evident from the frequency of terms like \"kitchen\", \"bath\", \"tiling\", \"carpeting\", and more, and specific remodeling work is often spelled out in the longer ngrams like \"bathtub surround remove replace kitchen cabinet installing new\".\n",
    "\n",
    "#### 6. Police detail areas\n",
    "\n",
    "For trigrams and 4-grams police detail information is truly ubiquitous (\"boston police detail area\").  The specifics of the police detail often include the time of day when the police are stationed, as well as a phone number starting with 343.  Larger projects that could, for example, disrupt traffic would require police presence during the day.\n",
    "\n",
    "#### 7. Plumbing\n",
    "\n",
    "Plumbing is self-explanatory--common words include \"plumbing\", \"bathroom\", \"kitchen\", \"sink\", etc.  It also appears toward the top of the list of single-word comments.\n",
    "\n",
    "#### 8. Fire alarm systems\n",
    "\n",
    "Although none of these words are the very most common words in the comments, together as a trigram \"fire alarm system\" is the very most common.  Repair and reinstallation of fire alarms is a clear theme.\n",
    "\n",
    "#### 9. Security systems\n",
    "\n",
    "Longer ngrams include \"install security system\" and \"low voltage wireless burglar alarm\".  Much of the frequency of electrical system language can be attributed to security system installation as well.\n",
    "\n",
    "#### 10. Occupancy changes\n",
    "\n",
    "Various ngrams including \"single\"- or \"two family dwelling\" and \"change occupancy\" indicate that declaring occupancy changes is a common use of the comments section."
   ]
  },
  {
   "cell_type": "markdown",
   "metadata": {},
   "source": [
    "***\n",
    "\n",
    "To better understand what kind of information can be drawn from these themes, let's have a quick look at another feature of the data, the TOTAL_FEES.  One might expect that different kinds of projects elicit different fees, so there should be some correlation between theme and fee.\n",
    "\n",
    "First, here is a summary of the statistics of the total fee feature."
   ]
  },
  {
   "cell_type": "code",
   "execution_count": 181,
   "metadata": {},
   "outputs": [
    {
     "name": "stdout",
     "output_type": "stream",
     "text": [
      "Quantiles:  30.0 65.0 175.0\n",
      "Mean:  4820.1373870769485\n"
     ]
    },
    {
     "data": {
      "image/png": "[encoded data removed]",
      "text/plain": [
       "<matplotlib.figure.Figure at 0x1a47cce780>"
      ]
     },
     "metadata": {},
     "output_type": "display_data"
    }
   ],
   "source": [
    "quantile1_fee, median_fee, quantile3_fee = bp_test.TOTAL_FEES.quantile([.25,.5,.75])\n",
    "mean_fee = bp_test.TOTAL_FEES.mean()\n",
    "print('Quantiles: ', quantile1_fee, median_fee, quantile3_fee)\n",
    "print('Mean: ', mean_fee)\n",
    "plt.figure()\n",
    "plt.hist(bp_test['TOTAL_FEES'], bins=20, range=(0,50000), log=True)\n",
    "plt.xlabel('Total Fee ($)')\n",
    "plt.show()"
   ]
  },
  {
   "cell_type": "markdown",
   "metadata": {},
   "source": [
    "Now I will divide the whole dataset into 10 equal quantiles by total fee.  For each quantile I'll extract the average comment length and the frequency with which some representative words appear.  The word frequency is given by\n",
    "\n",
    "$ Word Frequency = (word count) / (total #words in quantile) $\n",
    "\n",
    "The code below loops over quantiles and prints/saves the key values."
   ]
  },
  {
   "cell_type": "code",
   "execution_count": 265,
   "metadata": {
    "scrolled": true
   },
   "outputs": [
    {
     "name": "stdout",
     "output_type": "stream",
     "text": [
      "-770 < fee < 25 \n",
      "Avg comment length:  4.70514072440232\n",
      "install     4511\n",
      "new         3783\n",
      "replace     2955\n",
      "2           2411\n",
      "existing    2031\n",
      "work        1999\n",
      "gas         1781\n",
      "issued      1748\n",
      "water       1739\n",
      "floor       1720\n",
      "dtype: int64\n",
      "25 < fee < 30 \n",
      "Avg comment length:  1.8795979227588457\n",
      "gas         3360\n",
      "install     2357\n",
      "new         2255\n",
      "boiler      2069\n",
      "replace     1820\n",
      "furnace     1442\n",
      "light       1421\n",
      "existing    1032\n",
      "2           1015\n",
      "bathroom    975 \n",
      "dtype: int64\n",
      "30 < fee < 35 \n",
      "Avg comment length:  1.2955120325746787\n",
      "gas        2370\n",
      "boiler     1778\n",
      "new        1675\n",
      "install    1551\n",
      "replace    1142\n",
      "light      1011\n",
      "kitchen    719 \n",
      "floor      694 \n",
      "2          668 \n",
      "fixture    628 \n",
      "dtype: int64\n",
      "35 < fee < 50 \n",
      "Avg comment length:  7.988139826861476\n",
      "install     9224\n",
      "new         7798\n",
      "kitchen     5406\n",
      "replace     4727\n",
      "floor       4543\n",
      "2           4446\n",
      "gas         4282\n",
      "1           3884\n",
      "existing    3620\n",
      "bathroom    3460\n",
      "dtype: int64\n",
      "50 < fee < 65 \n",
      "Avg comment length:  5.116746111753048\n",
      "install     5127\n",
      "new         4879\n",
      "2           3159\n",
      "floor       2964\n",
      "kitchen     2895\n",
      "existing    2614\n",
      "replace     2573\n",
      "1           2437\n",
      "gas         1973\n",
      "bathroom    1931\n",
      "dtype: int64\n",
      "65 < fee < 90 \n",
      "Avg comment length:  9.169945805378402\n",
      "new         9616\n",
      "install     8500\n",
      "floor       5250\n",
      "existing    5174\n",
      "2           5043\n",
      "service     4850\n",
      "replace     3765\n",
      "kitchen     3762\n",
      "1           3727\n",
      "3           3592\n",
      "dtype: int64\n",
      "90 < fee < 138 \n",
      "Avg comment length:  10.136578869098537\n",
      "new         10206\n",
      "install     10072\n",
      "existing    6765 \n",
      "floor       5995 \n",
      "roof        4983 \n",
      "replace     4839 \n",
      "2           4228 \n",
      "3           3845 \n",
      "1           3822 \n",
      "kitchen     3196 \n",
      "dtype: int64\n",
      "138 < fee < 240 \n",
      "Avg comment length:  12.693306872109643\n",
      "new         13698\n",
      "install     12469\n",
      "existing    8638 \n",
      "floor       8015 \n",
      "roof        6356 \n",
      "replace     5903 \n",
      "3           4476 \n",
      "2           4447 \n",
      "remove      4180 \n",
      "kitchen     4125 \n",
      "dtype: int64\n",
      "240 < fee < 700 \n",
      "Avg comment length:  15.323391072495506\n",
      "new         19752\n",
      "install     12400\n",
      "floor       11347\n",
      "existing    10657\n",
      "replace     7543 \n",
      "kitchen     7175 \n",
      "wall        5761 \n",
      "bathroom    5665 \n",
      "2           5450 \n",
      "work        5171 \n",
      "dtype: int64\n",
      "700 < fee < 625000606 \n",
      "Avg comment length:  20.88248531954823\n",
      "new           29963\n",
      "floor         14562\n",
      "existing      14256\n",
      "work          10596\n",
      "install       8884 \n",
      "office        8060 \n",
      "interior      7939 \n",
      "renovation    7839 \n",
      "2             7783 \n",
      "fire          6432 \n",
      "dtype: int64\n"
     ]
    }
   ],
   "source": [
    "fees=[0]*10\n",
    "lowers=[0]*10\n",
    "for i in range(1,11):\n",
    "    fees[i-1]= bp_test.TOTAL_FEES.quantile(0.1*i)\n",
    "    lowers[i-1] = bp_test.TOTAL_FEES.quantile(0.1*(i-1))\n",
    "    \n",
    "avg_comment_length = [0]*10\n",
    "new_arr = [0]*10\n",
    "office_arr = [0]*10\n",
    "boiler_arr = [0]*10\n",
    "water_arr = [0]*10\n",
    "replace_arr = [0]*10\n",
    "for i in range(len(fees)):\n",
    "    fee_df = bp_test.loc[(bp_test.TOTAL_FEES<fees[i]) & (bp_test.TOTAL_FEES>lowers[i])]\n",
    "    fee_freq = pd.Series(' '.join(fee_df.Comments).split())\n",
    "    fee_word_freq = fee_freq.value_counts()[fee_freq.value_counts()>10]\n",
    "    print('%.0f < fee < %.0f ' % (lowers[i],fees[i]))\n",
    "    print('Avg comment length: ', 10*fee_freq.count()/len(bp_test.index))\n",
    "    avg_comment_length[i] = 10*fee_freq.count()/len(bp_test.index)\n",
    "    print(fee_word_freq.sort_values(ascending=False).head(10))\n",
    "    new_arr[i] = fee_word_freq.loc['new']/fee_freq.count()\n",
    "    office_arr[i] = fee_word_freq.loc['office']/fee_freq.count()\n",
    "    boiler_arr[i] = fee_word_freq.loc['boiler']/fee_freq.count()\n",
    "    water_arr[i] = fee_word_freq.loc['water']/fee_freq.count()\n",
    "    replace_arr[i] = fee_word_freq.loc['replace']/fee_freq.count()"
   ]
  },
  {
   "cell_type": "markdown",
   "metadata": {},
   "source": [
    "To make sure we understand how the total fee affects comments in general, let's plot them against one another."
   ]
  },
  {
   "cell_type": "code",
   "execution_count": 256,
   "metadata": {
    "scrolled": true
   },
   "outputs": [
    {
     "data": {
      "image/png": "[encoded data removed]",
      "text/plain": [
       "<matplotlib.figure.Figure at 0x1a460e3e80>"
      ]
     },
     "metadata": {},
     "output_type": "display_data"
    }
   ],
   "source": [
    "bins = lowers.copy()\n",
    "bins[0] = 0\n",
    "plt.figure()\n",
    "plt.plot(bins,avg_comment_length)\n",
    "plt.ylabel('Average Comment Length')\n",
    "plt.xlabel('Total Fees')\n",
    "plt.show()"
   ]
  },
  {
   "cell_type": "markdown",
   "metadata": {},
   "source": [
    "There's a clear direct correlation between total fee and average comment length, which makes sense because more involved, expensive projects might require more-detailed descriptions.\n",
    "\n",
    "Now let's examine five different common words plotted over total fee."
   ]
  },
  {
   "cell_type": "code",
   "execution_count": 266,
   "metadata": {},
   "outputs": [
    {
     "data": {
      "image/png": "[encoded data removed]",
      "text/plain": [
       "<matplotlib.figure.Figure at 0x1a389b6e80>"
      ]
     },
     "metadata": {},
     "output_type": "display_data"
    }
   ],
   "source": [
    "plt.figure()\n",
    "plt.plot(bins,new_arr, label='new')\n",
    "plt.plot(bins,office_arr, label='office')\n",
    "plt.plot(bins,boiler_arr, label='boiler')\n",
    "plt.plot(bins,water_arr, label='water')\n",
    "plt.plot(bins,replace_arr, label='replace')\n",
    "plt.ylabel('Word Frequency')\n",
    "plt.xlabel('Total Fees')\n",
    "plt.legend()\n",
    "plt.show()"
   ]
  },
  {
   "cell_type": "markdown",
   "metadata": {},
   "source": [
    "This plot shows some clear trends!\n",
    "\n",
    "1. The term \"new\" is ambiguous--it could refer to a replacement or to a brand new installation.  As such, it remains a highly-used word at all fee levels.\n",
    "2. The terms \"water\" and \"replace\" is used frequently in the low-fee range, then falls off more slowly.\n",
    "3. The term \"boiler\" is used extremely frequently in a narrow low-fee range and almost not-at-all in the very lowest-fee or high-fee ranges.  This might indicate smaller maintenance projects with a consistent fee.\n",
    "4. The term \"office\" is used almost never for low-fee projects and rises with the fee.\n",
    "\n",
    "Trends like these show that dividing the comments section by theme is meaningful, and that there is substantial information to be dredged from the unstructured text."
   ]
  },
  {
   "cell_type": "code",
   "execution_count": null,
   "metadata": {
    "collapsed": true
   },
   "outputs": [],
   "source": []
  }
 ],
 "metadata": {
  "kernelspec": {
   "display_name": "Python 3",
   "language": "python",
   "name": "python3"
  },
  "language_info": {
   "codemirror_mode": {
    "name": "ipython",
    "version": 3
   },
   "file_extension": ".py",
   "mimetype": "text/x-python",
   "name": "python",
   "nbconvert_exporter": "python",
   "pygments_lexer": "ipython3",
   "version": "3.7.4"
  }
 },
 "nbformat": 4,
 "nbformat_minor": 2
}
